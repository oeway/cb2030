{
 "cells": [
  {
   "cell_type": "markdown",
   "id": "207fad24-66c0-4511-a442-f46e90f340f2",
   "metadata": {},
   "source": [
    "\n",
    "# Conspicuous example of covariation\n",
    "You are investigating the book keeping for a shoe store and notice that for each customer the variables  \n",
    "\"Difference in number of shoes in stock\",  \n",
    "\"Difference in money in cash register\",  \n",
    "\"Number of shoes sold to customer\",  \n",
    "and \"Difference in the Stock-value\"  \n",
    "seemingly co-variate. With each encounter with a customer as column and the variables as rows you observe:\n",
    "\n",
    "$\\displaystyle \\mathbf {M}={\\begin{bmatrix}\n",
    "-2& -1&-3\\\\\n",
    "1000&500&1500\\\\\n",
    "2&1&3\\\\\n",
    "-1000&-500&-1500\\end{bmatrix}}.$\n",
    "\n",
    "We use PCA to decompose the matrix $\\mathbf {M}$ into two vectors $\\mathbf {u}$ and $\\mathbf {v^T}$"
   ]
  },
  {
   "cell_type": "code",
   "execution_count": null,
   "id": "aa4c13f3-b60f-421a-acf8-27373b06afaf",
   "metadata": {},
   "outputs": [],
   "source": [
    "import numpy as np\n",
    "from sklearn.decomposition import PCA\n",
    "M = np.array([[-2, -1,-3],[1000,500,1500],[2, 1,3],[-1000,-500,-1500]])\n",
    "\n",
    "pca = PCA(n_components=1)\n",
    "pca.fit(M)\n",
    "u=pca.transform(M)\n",
    "v=pca.components_"
   ]
  },
  {
   "cell_type": "markdown",
   "id": "2d207d54-fb9f-4ecb-a9cf-21033b8ce2ef",
   "metadata": {},
   "source": [
    "We firsty investigate the vector $\\mathbf {u}$."
   ]
  },
  {
   "cell_type": "code",
   "execution_count": null,
   "id": "8f532972-e07a-4b9c-91f3-c20e76abf2ab",
   "metadata": {},
   "outputs": [],
   "source": [
    "print(\"u =\",u)\n",
    "print()\n",
    "print(u[1,0]/u[2,0])"
   ]
  },
  {
   "cell_type": "markdown",
   "id": "18d90274-4c87-4d8b-8b6a-969233d65219",
   "metadata": {},
   "source": [
    "The $\\mathbf {u}$ vector seem to capture a prominent trend in $\\mathbf {M}$. E.g. whenever the third row (index 2) changes with one unit, the second row moves with 500 units. \n",
    "\n",
    "Lets look at the $\\mathbf {v^T}$ vector."
   ]
  },
  {
   "cell_type": "code",
   "execution_count": null,
   "id": "9d6616db-8911-4e03-891d-86ccfec0be38",
   "metadata": {},
   "outputs": [],
   "source": [
    "print(\"v=\",v)\n",
    "print()\n",
    "print(v[0,0]/v[0,1])\n",
    "print(v[0,2]/v[0,1])"
   ]
  },
  {
   "cell_type": "markdown",
   "id": "6bbad7c3-9c1e-47c5-a835-822be20b0d93",
   "metadata": {},
   "source": [
    "Here is another trend in $\\mathbf {M}$, the first column seem to have twice the magnitude of the values in the second column. And the third column seem to have three tinmes as high values as the second column.\n",
    "\n",
    "In the example the $\\mathbf {u}$ vector captures a relation between the customers, and the $\\mathbf {v^T}$ vector the relation between the variables.\n",
    "\n",
    "Just as a check we also see that we can reconstruct $\\mathbf {M}$ from $\\mathbf {u}$ and $\\mathbf {v^T}$."
   ]
  },
  {
   "cell_type": "code",
   "execution_count": null,
   "id": "fd7d27f9-5474-4b4c-8734-85e3bc1f9ddb",
   "metadata": {},
   "outputs": [],
   "source": [
    "print(\"u*v=\",u*v)"
   ]
  },
  {
   "cell_type": "markdown",
   "id": "b91c1167-8493-45e6-8ba5-59a0dffec740",
   "metadata": {},
   "source": [
    "## Singular value decomposition (SVD)\n",
    "\n",
    "SVD offers an efficient way to perform PCA on low dimensional arrays. For the example above we could have calculated:"
   ]
  },
  {
   "cell_type": "code",
   "execution_count": null,
   "id": "813c95c5-b6a2-4c6a-acef-48e35f80bb4a",
   "metadata": {},
   "outputs": [],
   "source": [
    "U,S,Vt=np.linalg.svd(M)"
   ]
  },
  {
   "cell_type": "code",
   "execution_count": null,
   "id": "5b69d6a8-c3a6-4a29-aef2-6ddbe937d9d1",
   "metadata": {},
   "outputs": [],
   "source": [
    "u,v = U[:,[0]], Vt[[0],:]"
   ]
  },
  {
   "cell_type": "code",
   "execution_count": null,
   "id": "07812c77-0c21-4071-8a7d-f005a0e609f3",
   "metadata": {},
   "outputs": [],
   "source": [
    "u"
   ]
  },
  {
   "cell_type": "code",
   "execution_count": null,
   "id": "56e4558b-a13e-466b-8971-507beff21f3a",
   "metadata": {},
   "outputs": [],
   "source": [
    "v"
   ]
  },
  {
   "cell_type": "markdown",
   "id": "324671b5-73b6-44a4-8414-f214396551ba",
   "metadata": {},
   "source": [
    "The magnitudes of $\\mathbf {u}$ and $\\mathbf {v^T}$ are different however the dirrection is similar.\n",
    "\n",
    "For SVD we however would need to scale the vectors with the content of $\\mathbf {S}$, if we would like to recreate $\\mathbf {M}$. "
   ]
  },
  {
   "cell_type": "code",
   "execution_count": null,
   "id": "beab0de7-2c16-4b41-89b2-7f5cb84e01ed",
   "metadata": {},
   "outputs": [],
   "source": [
    "u*S[0]*v"
   ]
  },
  {
   "cell_type": "code",
   "execution_count": null,
   "id": "2f0c9655-bb42-43c9-974f-c8a1dabc2a2b",
   "metadata": {},
   "outputs": [],
   "source": []
  }
 ],
 "metadata": {
  "kernelspec": {
   "display_name": "Python 3",
   "language": "python",
   "name": "python3"
  },
  "language_info": {
   "codemirror_mode": {
    "name": "ipython",
    "version": 3
   },
   "file_extension": ".py",
   "mimetype": "text/x-python",
   "name": "python",
   "nbconvert_exporter": "python",
   "pygments_lexer": "ipython3",
   "version": "3.9.4"
  }
 },
 "nbformat": 4,
 "nbformat_minor": 5
}
